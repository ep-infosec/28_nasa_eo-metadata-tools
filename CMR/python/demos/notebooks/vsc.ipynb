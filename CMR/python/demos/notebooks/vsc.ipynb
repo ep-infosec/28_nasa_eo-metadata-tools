{
 "cells": [
  {
   "cell_type": "markdown",
   "metadata": {},
   "source": [
    "# CMR Python Library\n",
    "The CMR Python library is a set of tools designed to make using CMR in python easier. Using the\n",
    "library will relive the calling code from the need to manage HTTP headers, HTTP calls, or deal with\n",
    "page results. With the library, a calling function simply feeds a map of parameters and gets back\n",
    "a list of records.\n",
    "\n",
    "# Using the Juypter Notebooks with Visual Studio Code\n",
    "\n",
    "Visual Studio Code has built in support for Juypter Notebooks. This demonstration will show how to get\n",
    "started with the CMR Python library to start making queries against CMR, all under Visual Studio Code\n",
    "\n",
    "1. Download Visual Studio from https://visualstudio.microsoft.com\n",
    "1. Launch Visual Studio Code and open a new window.\n",
    "1. Either pick \"Get Started with Python development\" from the \"Get Started\" screen, or select\n",
    "`Select Interpreter to Start Juypter Server`. This action will start the process of loading the\n",
    "needed software to host a notebook.\n",
    "    * If you have multiple versions of Python, you will be asked to pick a version. Pick one you\n",
    "      intend to use and install libraries into. The next step will require you to use the same\n",
    "      version picked on this step.\n",
    "    * Call the following in the bottom Terminal pane if you have one or in a shell:\n",
    "\n",
    "`pip3 install https://github.com/nasa/eo-metadata-tools/releases/download/latest-master/eo_metadata_tools_cmr-0.0.1-py3-none-any.whl`\n",
    "\n",
    "This is all that is needed to start using the CMR Python library.\n",
    "\n",
    "When you return to VSC, or want to create a new notebook, you do not need to go through all these\n",
    "steps, just create a new file as normal and make sure you save the file with the `.ipynb` extention."
   ]
  },
  {
   "cell_type": "markdown",
   "metadata": {},
   "source": [
    "# Collection Search\n",
    "Collections and granule APIs are devided into modules. To get started with collections, import the\n",
    "collection module:"
   ]
  },
  {
   "cell_type": "code",
   "execution_count": null,
   "metadata": {},
   "outputs": [],
   "source": [
    "from cmr.search import collection"
   ]
  },
  {
   "cell_type": "markdown",
   "metadata": {},
   "source": [
    "\n",
    "## Basic Search\n",
    "Here is a basic example of a CMR query using the library.\n",
    "1. Import the collection search API, then pass it a dictionary of CMR parameters and values.\n",
    "    * Anything in the [Collection Search by Parameter](https://cmr.earthdata.nasa.gov/search/site/docs/search/api.html#collection-search-by-parameters) section of the CMR API can be used here.\n",
    "1. A list is returned"
   ]
  },
  {
   "cell_type": "code",
   "execution_count": null,
   "metadata": {},
   "outputs": [],
   "source": [
    "\n",
    "# get records that mention fish\n",
    "result = collection.search({'keyword':'fish'})\n",
    "\n",
    "print(f\"Record Count: {str(len(result))}\")"
   ]
  },
  {
   "cell_type": "markdown",
   "metadata": {},
   "source": [
    "## Search Options\n",
    "Search API calls take parameters to help filter down results or to choose which envirnment is to be used.\n",
    "* `limit` set the max many records returned (from 1 to 2000)\n",
    "* `config` is used for making internal settings to the API. The most common configuration is to set the CMR envirnment\n",
    "    * default is `production`\n",
    "    * uat or \"User Acceptance Testing\" can also be selected for those who participate in CMR tests."
   ]
  },
  {
   "cell_type": "code",
   "execution_count": null,
   "metadata": {},
   "outputs": [],
   "source": [
    "# search for a few fishy UAT records\n",
    "result = collection.search({'keyword':'fish'}, limit=2, config={'env':'uat'})\n",
    "print(f\"Record Count: {str(len(result))}\")"
   ]
  },
  {
   "cell_type": "markdown",
   "metadata": {},
   "source": [
    "## Results\n",
    "Results are returned as a list of maps. To illustrate the structuer, the results from above will be\n",
    "dumped out showing the name of the keys in the map."
   ]
  },
  {
   "cell_type": "code",
   "execution_count": null,
   "metadata": {},
   "outputs": [],
   "source": [
    "def key_tree(node, depth=0):\n",
    "    # recursivly walk a tree and print out the names of each node, indent them\n",
    "    if isinstance(node, type(list)):\n",
    "        node = node[0] # grab the first node of a list\n",
    "    if isinstance(node, dict):\n",
    "        for key, item in node.items():\n",
    "            print(\"\\t\"*depth, key)\n",
    "            key_tree(item, depth+1)\n",
    "key_tree(result)"
   ]
  },
  {
   "cell_type": "markdown",
   "metadata": {},
   "source": [
    "## Filtering Results\n",
    "\n",
    "Now the same results will be filtered down by th esearch function using one of the many built in fulters. In this case the meta filter which only returns the meta tag from the results:"
   ]
  },
  {
   "cell_type": "code",
   "execution_count": null,
   "metadata": {},
   "outputs": [],
   "source": [
    "result = collection.search({'keyword':'fish'}, filters=[collection.umm_fields,\n",
    "    collection.drop_fields('CollectionCitations'),\n",
    "    collection.drop_fields('SpatialExtent'),\n",
    "    collection.drop_fields('ScienceKeywords'),\n",
    "    collection.drop_fields('RelatedUrls'),\n",
    "    collection.drop_fields('DataCenters'),\n",
    "    collection.drop_fields('ContactGroups'),\n",
    "    collection.drop_fields('ContactPersons'),\n",
    "    collection.drop_fields('MetadataSpecification'),\n",
    "    collection.drop_fields('TemporalExtents'),\n",
    "    collection.drop_fields('Abstract'),\n",
    "    collection.drop_fields('Purpose'),\n",
    "    collection.drop_fields('UseConstraints')],\n",
    "    limit=1, config={'env':'uat'})\n",
    "print(result[0].keys())\n",
    "print(f\"Record Count: {result}\")"
   ]
  },
  {
   "cell_type": "markdown",
   "metadata": {},
   "source": [
    "# Granule Searches\n",
    "Granule searches are much like collection searches. Just import the library:"
   ]
  },
  {
   "cell_type": "code",
   "execution_count": null,
   "metadata": {},
   "outputs": [],
   "source": [
    "from cmr.search import granule"
   ]
  },
  {
   "cell_type": "markdown",
   "metadata": {},
   "source": [
    "### Basic Granule search\n",
    "Granule searches require at least one search criteria such as a collection concept id, or provider\n",
    "name:"
   ]
  },
  {
   "cell_type": "code",
   "execution_count": null,
   "metadata": {},
   "outputs": [],
   "source": [
    "\n",
    "# basic granule search bound by a provider\n",
    "result = granule.search({'provider':'ORNL_DAAC'})\n",
    "\n",
    "print(result[0])"
   ]
  },
  {
   "cell_type": "markdown",
   "metadata": {},
   "source": [
    "### Find Granules with Collections\n",
    "There is also a method that allows you to use collection searches to find granules. For each\n",
    "collection found, a sample (the first few, in an undefined order) of granules is selected and\n",
    "returned."
   ]
  },
  {
   "cell_type": "code",
   "execution_count": null,
   "metadata": {},
   "outputs": [],
   "source": [
    "# find collections about water and grab a sample of granules from those collections\n",
    "result = granule.sample_by_collections({'keyword':'water'})\n",
    "print(len(result))"
   ]
  },
  {
   "cell_type": "markdown",
   "metadata": {},
   "source": [
    "### Filtering granule results\n",
    "Also like collections, granule result columns can be filtered down:\n",
    "* use the `filters` parameter to drop columns\n",
    "* use the `limits` parameter to set how many collections should be used for sampling granules"
   ]
  },
  {
   "cell_type": "code",
   "execution_count": null,
   "metadata": {},
   "outputs": [],
   "source": [
    "# limit to 2 granules per collection and 5 collections in all\n",
    "result3 = granule.sample_by_collections({'keyword':'water'}, filters=[granule.meta_fields], limits=[2,5])\n",
    "\n",
    "print(len(result3))"
   ]
  },
  {
   "cell_type": "markdown",
   "metadata": {},
   "source": [
    "# Finding providers\n",
    "For people doing curration on metadata or who want to look at just single providers, an API exists\n",
    "to pull the provider list out of CMR. This CMR call is not documented everywhere and is one of the\n",
    "reasons the CMR Python library exists, to make CMR easier to use:"
   ]
  },
  {
   "cell_type": "code",
   "execution_count": null,
   "metadata": {},
   "outputs": [],
   "source": [
    "from cmr.search import providers\n",
    "\n",
    "# list all providers and pull out their ids into one list\n",
    "result = providers.search()\n",
    "list = []\n",
    "for prov in result:\n",
    "    list.append(prov.get('provider-id'))\n",
    "print(list)\n",
    "\n",
    "print(\"The last provider is printed out here as an example of what all is returned.\")\n",
    "print(prov)"
   ]
  },
  {
   "cell_type": "markdown",
   "metadata": {},
   "source": [
    "## Query for providers\n",
    "There is a `search_by_id()` which allows you to filter providers by Regular Expression:"
   ]
  },
  {
   "cell_type": "code",
   "execution_count": null,
   "metadata": {},
   "outputs": [],
   "source": [
    "providers.search_by_id('.*GHRC.*')"
   ]
  },
  {
   "cell_type": "markdown",
   "metadata": {},
   "source": [
    "# Feedback\n",
    "\n",
    "* Code - https://github.com/nasa/eo-metadata-tools\n",
    "* Slack - #umm-powerhouse\n",
    "* Techincal Questions - thomas.a.cherry@nasa.gov\n",
    "* Suggestions - erich.e.reiter@nasa.gov\n",
    "* NASA rep - valerie.dixon@nasa.gov"
   ]
  }
 ],
 "metadata": {
  "interpreter": {
   "hash": "31f2aee4e71d21fbe5cf8b01ff0e069b9275f58929596ceb00d14d90e3e16cd6"
  },
  "kernelspec": {
   "display_name": "Python 3.8.9 64-bit",
   "language": "python",
   "name": "python3"
  },
  "language_info": {
   "codemirror_mode": {
    "name": "ipython",
    "version": 3
   },
   "file_extension": ".py",
   "mimetype": "text/x-python",
   "name": "python",
   "nbconvert_exporter": "python",
   "pygments_lexer": "ipython3",
   "version": "3.8.9"
  },
  "orig_nbformat": 4
 },
 "nbformat": 4,
 "nbformat_minor": 2
}
